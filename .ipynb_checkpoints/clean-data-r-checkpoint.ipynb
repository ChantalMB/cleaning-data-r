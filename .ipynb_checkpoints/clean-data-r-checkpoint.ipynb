{
 "cells": [
  {
   "cell_type": "markdown",
   "metadata": {},
   "source": [
    "# Cleaning and Manipulating Data with R\n",
    "\n",
    "So maybe you've created a dataset by scraping the web, or found some really cool open data but... it's messy! You try to make visuals with it, but there's so many nonsense characters and repeating words that your data seems meaningless!\n",
    "\n",
    "Well, no need to fear, R makes cleaning all that nonsense up simple! At first glance, if you notice your data has a lot of names or words that are recognizable misspellings or jumbles of a singular word, it may be beneficial to [use OpenRefine first to reconcil these occurences](https://handsondataviz.org/open-refine.html).\n",
    "\n",
    "Now, to start with R, first we'll want to install a few packages:"
   ]
  },
  {
   "cell_type": "code",
   "execution_count": null,
   "metadata": {},
   "outputs": [],
   "source": [
    "install.packages(\"tidyverse\")\n",
    "install.packages(\"tidytext\")"
   ]
  },
  {
   "cell_type": "markdown",
   "metadata": {},
   "source": [
    "A **package** is a bundle of code and data made to perform a specified task which you can load or \"import\" into your own project to use. \n",
    "\n",
    "For this task, we're using the [Tidyverse](https://www.tidyverse.org/) collection, which is a collection of R packages dessigned to be used for data science. If you're wondering \"what IS 'clean' data?\", they also have a [handy guide](https://tidyr.tidyverse.org/articles/tidy-data.html) on defining that too. \n",
    "\n",
    "We will later use the package [tidytext](https://github.com/juliasilge/tidytext) which applies the tidy data principales to [text mining](https://www.tidytextmining.com/preface.html#preface).\n",
    "\n",
    "In your own projects, after installing Tidyverse, you can import individual packages from within the collection as needed, OR you can simply import the entire collection as I'm about to do:"
   ]
  },
  {
   "cell_type": "code",
   "execution_count": null,
   "metadata": {},
   "outputs": [],
   "source": [
    "library(tidyverse)\n",
    "\n",
    "# this is a part of Tidyverse too-- I'll touch on it shortly\n",
    "library(magrittr)\n",
    "\n",
    "library(\"tidytext\")\n"
   ]
  },
  {
   "cell_type": "markdown",
   "metadata": {},
   "source": [
    "If you know you only need to use one or two specific packages, it's best practice to only import the ones you need. For each task, I'll indicate what specific package is being used so you know what packages you can apply to your own work! \n",
    "\n",
    "## Loading your data\n",
    "\n",
    "Now that we have the tools we need, we can start cleaning our data by \"reading\" it in to the program:"
   ]
  },
  {
   "cell_type": "code",
   "execution_count": null,
   "metadata": {},
   "outputs": [],
   "source": [
    "# library(readr)\n",
    "\n",
    "fairyElements <- read_csv(\"data/fairy-elements.csv\")\n",
    "\n",
    "# if your data is from a link, replace 'read_csv' with 'read_url'"
   ]
  },
  {
   "cell_type": "markdown",
   "metadata": {},
   "source": [
    "The part before the arrow, `fairyElements`, is a **variable**. In programming, variables act like buckets, holding whatever you give them through assignment operators such as `<-` \"inside\". In this case, we are storing the contents of `fairy-elements.csv`, data pulled from the [The Survey of Scottish Witchcraft Database](http://www.shca.ed.ac.uk/Research/witches/) on elements associated with fairies found in trial records from the Scottish witch-hunts occuring during the period of 1563 to 1736. \n",
    "\n",
    "We put this in a variable so we can easily manipulate it when cleaning its contents. To see your data, you can type:"
   ]
  },
  {
   "cell_type": "code",
   "execution_count": null,
   "metadata": {},
   "outputs": [],
   "source": [
    "# library(tibble)\n",
    "fairyElements <- as_tibble(fairyElements)\n",
    "# Note: You can overwrite variables like I just (intentionally) did for fairyElements-- pay attention when naming variables so you don't do this unintentionally!\n",
    "\n",
    "# Check out your data! This will show the first couple of rows\n",
    "head(fairyElements)"
   ]
  },
  {
   "cell_type": "markdown",
   "metadata": {},
   "source": [
    "So, when looking over this table's contents, what do you notice?\n",
    "\n",
    "Immediately, I'm seeing that the location `Nidrie` always begins with a `?`, and there are also some `NA` values, which indicates a lack of data (can also appear as `NULL`), in the `Case Notes` column. Unusually placed characters and `NA` values are both common occurences in the data we'll be working with so we'll be looking at how to remove or modify them, but first, look at the column names-- they have spaces between each word!\n",
    "\n",
    "## Modifying Column Names\n",
    "\n",
    "Spaces between words are good for readability, but can make working with the data more difficult. Run this and see what happens:"
   ]
  },
  {
   "cell_type": "code",
   "execution_count": null,
   "metadata": {},
   "outputs": [],
   "source": [
    "# the $ indicates that you're pulling something that is stored within the variable that comes before it-- in this case, you're trying to pull a column from our 'fairyElements' table \n",
    "fairyElements$Motif Type"
   ]
  },
  {
   "cell_type": "markdown",
   "metadata": {},
   "source": [
    "It throws an `unexpected symbol` error because it interprets `Motif Type` as 2 separate words due to the space, and so the program is confused because it's seeing this \"random\" word sitting on the line you're running and doesn't know what to do with it. \n",
    "\n",
    "Thus, before we tackle cleaning any of the actual data, let's clean up the column names:"
   ]
  },
  {
   "cell_type": "code",
   "execution_count": null,
   "metadata": {},
   "outputs": [],
   "source": [
    "# library(magrittr) for the pipe (aka '%<>%')\n",
    "# library(stringr) for str_replace_all() function\n",
    "\n",
    "colnames(fairyElements) %<>% str_replace_all(\"\\\\s\", \"_\") %<>% tolower()\n",
    "\n",
    "# now look at your columns!\n",
    "head(fairyElements)"
   ]
  },
  {
   "cell_type": "markdown",
   "metadata": {},
   "source": [
    "`colnames()` is saying that you want the column names from `fairyElements`\n",
    "`%<>%` is a **pipe** in R, and is like saying \"update\"-- this whole line is essentially read as:\n",
    "    - Update (`%<>%`) the column names in `fairyElements` after replacing all spaces (`\\\\s`) with underscores (`_`) and update again when the column names are made lowercase (`tolower()`)\n",
    "    \n",
    "Functions from the `stringr` package use regular expressions (the same mechanism behind \"find and replace\" in word processors like MS Word) to search for what you specify. Regular expressions can be tricky, but, luckily, Tidyverse created [a convinient cheatsheet on using `stringr`](https://evoldyn.gitlab.io/evomics-2018/ref-sheets/R_strings.pdf) that includes a guide to regular expressions on the 2nd page if you need to find something other than spaces (`\\\\s`).\n",
    "\n",
    "## Removing Missing Values (`NA` and `NULL`)\n",
    "\n",
    "With that in mind, we can now move on to actually cleaning the data itself, which will also make use of `stringr`. First, let's look at thos `NA` values. There are two ways you can clean this up:"
   ]
  },
  {
   "cell_type": "code",
   "execution_count": null,
   "metadata": {
    "scrolled": false
   },
   "outputs": [],
   "source": [
    "# library(tidyr)\n",
    "\n",
    "# Replace with a word\n",
    "# Note: if you have a \"NULL\" value, you can typically just use the str_replace_all() function\n",
    "\n",
    "fairyUnknown <- fairyElements %>% replace_na(list(case_notes = \"Unknown\"))\n",
    "\n",
    "print(\"NA is replaced with 'Unknown':\")\n",
    "head(fairyUnknown)\n",
    "\n",
    "# Remove row entirely\n",
    "fairyRemove <- fairyElements %>% drop_na(case_notes)\n",
    "\n",
    "print(\"Rows with NA removed entirely: \")\n",
    "head(fairyRemove)"
   ]
  },
  {
   "cell_type": "markdown",
   "metadata": {},
   "source": [
    "Choosing which method to use is entirely up to you. You may want to consider the number of \"Unknown\" factors when analyzing your data, in which case you should probably simply replace the missing valuess with a more meaningful word or statement. If you feel any missing data at all will hurt your analysis, you can go ahead and just remove the values, but remember to consider this when looking at your final results.\n",
    "\n",
    "I'm going to replace the `NA` values with \"Unspecified\" because I feel that the number of witch trials that have no notes attached to them could potentially be meaningful.\n",
    "\n",
    "## Modifying Column Content\n",
    "\n",
    "Next, we can look at fixing incidents of `?Nidrie`:"
   ]
  },
  {
   "cell_type": "code",
   "execution_count": null,
   "metadata": {},
   "outputs": [],
   "source": [
    "fairyElements <- fairyElements %>% replace_na(list(case_notes = \"Unknown\"))\n",
    "\n",
    "fairyElements$case_notes %<>% str_remove_all(\"\\\\?\")\n",
    "\n",
    "# note: a pipe pushes the object preceding it (in this case 'fairyElements$case_notes') as the first argument of the funtion that follows it\n",
    "\n",
    "head(fairyElements)"
   ]
  },
  {
   "cell_type": "markdown",
   "metadata": {},
   "source": [
    "And with that, our data is clean enough to begin further analysis! I'll now show you a couple of basic ways you can manipulate your data and find new perspectives. "
   ]
  },
  {
   "cell_type": "markdown",
   "metadata": {},
   "source": [
    "## Counting\n",
    "\n",
    "The `count()` function forms the basis of many types of analysis, as it allows you to count the unique values of one or more variables. For example, let's say I want to see the most common motif featured in the witch trials contained in `fairyElements`:"
   ]
  },
  {
   "cell_type": "code",
   "execution_count": null,
   "metadata": {},
   "outputs": [],
   "source": [
    "motif <- fairyElements %>% \n",
    "    count(motif_type, sort = TRUE)\n",
    "\n",
    "# 'sort = TRUE' means that the table created from this will be sorted from largest to smallest count\n",
    "\n",
    "head(motif)"
   ]
  },
  {
   "cell_type": "markdown",
   "metadata": {},
   "source": [
    "Pretty simple right? You can do this for columns that contain larger bodies of text as well with just a few extra steps to produce meaningful results. Take `folk_notes` for instances: "
   ]
  },
  {
   "cell_type": "code",
   "execution_count": null,
   "metadata": {},
   "outputs": [],
   "source": [
    "# what happens if we do the same thing as before?\n",
    "folkNotes <- fairyElements %>% \n",
    "    count(folk_notes, sort = TRUE)\n",
    "\n",
    "head(folkNotes)"
   ]
  },
  {
   "cell_type": "markdown",
   "metadata": {},
   "source": [
    "It certainly showed us that there are many individuals from the same trial in this dataset, but I wanted word frequencies, not entire-paragraph frequencies! To get that we need to first break the text into individual **tokens**, which are meaningful units of text, so, usually a word. Tidytext gives us an easy function to do this:"
   ]
  },
  {
   "cell_type": "code",
   "execution_count": null,
   "metadata": {},
   "outputs": [],
   "source": [
    "# Create an ID column\n",
    "fairyElements$id <- 1:nrow(fairyElements)\n",
    "\n",
    "# make a data frame with just the IDs and contents of 'folk_notes'-- I noticed there are more odd \"?\" in this column so I included this cleaning step within this action\n",
    "folkNotes <- tibble(id = fairyElements$id, text = (str_remove_all(fairyElements$folk_notes, \"\\\\?\")))\n",
    "\n",
    "# now we'll use tidytext's unnest_tokens() function to tokenize the text\n",
    "folkNotes <- folkNotes %>%\n",
    "  unnest_tokens(word, text)\n",
    "\n",
    "# let's look at the first couple tokens\n",
    "head(folkNotes)"
   ]
  },
  {
   "cell_type": "markdown",
   "metadata": {},
   "source": [
    "Looks good! Now, tokens are meant to be *meaningful*, and as you can see, there are words such as 'a' or 'by' which will likely not be useful for our analysis. To get rid of these types of tokens, which are known as \"stop words\", we can load the `stop_word` list that Tidytext provides:"
   ]
  },
  {
   "cell_type": "code",
   "execution_count": null,
   "metadata": {
    "scrolled": true
   },
   "outputs": [],
   "source": [
    "folkNotes <- folkNotes %>%\n",
    "  anti_join(stop_words)\n",
    "\n",
    "# an \"anti_join\" means that 'stop_words' is joined to the data you load in ('folkNotes') and any time a word matches in both datasets, it's removed.\n",
    "\n",
    "head(folkNotes)"
   ]
  },
  {
   "cell_type": "markdown",
   "metadata": {},
   "source": [
    "There we go! At this point, we can calculate the word frequencies of what is written in `folk_notes` like we did earlier (notice anything similar to what we saw in motifs?):"
   ]
  },
  {
   "cell_type": "code",
   "execution_count": null,
   "metadata": {},
   "outputs": [],
   "source": [
    "folkNotesFreq <- folkNotes %>% \n",
    "    count(word, sort = TRUE)\n",
    "\n",
    "# show it ALL\n",
    "folkNotesFreq"
   ]
  },
  {
   "cell_type": "markdown",
   "metadata": {},
   "source": [
    "## Filtering\n",
    "\n",
    "Filtering is exactly what it sounds like; it allows you to filter your data based on a specified condition. Here's 2 examples of how it may be used with the data we just generated:"
   ]
  },
  {
   "cell_type": "code",
   "execution_count": null,
   "metadata": {},
   "outputs": [],
   "source": [
    "# library(dplyr)\n",
    "\n",
    "# only show the words that occur more than 50 times\n",
    "folkNotes_gt <- folkNotesFreq %>%\n",
    "  filter(n > 50)\n",
    "\n",
    "print(\"Words which occur >50 times: \")\n",
    "folkNotes_gt\n",
    "\n",
    "# only show words that contain 'tree'-- uses str_detect() from stringr!\n",
    "folkNotes_trees <- folkNotesFreq %>%\n",
    "  filter(str_detect(word, \"tree\"))\n",
    "\n",
    "print(\"Trees found in folk notes: \")\n",
    "folkNotes_trees"
   ]
  },
  {
   "cell_type": "markdown",
   "metadata": {},
   "source": [
    "## Merging Data\n",
    "\n",
    "Finally, let's say you have 2 or more separate files with data that you think may be useful to analyze collectively. You can do that easily by loading in each dataset, and then using the `full_join()` function to bind them all together. For example, I will now join another dataset I have on the devil's appearence pulled from the same databasse as `fairyElements`:"
   ]
  },
  {
   "cell_type": "code",
   "execution_count": null,
   "metadata": {},
   "outputs": [],
   "source": [
    "# library(dplyr)\n",
    "\n",
    "devilAppearence <- read_csv(\"data/devilappearence.csv\")\n",
    "\n",
    "# adding an id-- IF YOUR DATASETS DON'T HAVE A MATCHING COLUMN (ex \"name\" or \"date\") don't just add an ID, first use 'bind_rows()', which works the same way as 'full_join()' \n",
    "devilAppearence$id <- 1:nrow(devilAppearence)\n",
    "\n",
    "unnaturalBeingsInfo <- full_join(fairyElements, devilAppearence, by = \"id\")\n",
    "\n",
    "unnaturalBeingsInfo"
   ]
  },
  {
   "cell_type": "markdown",
   "metadata": {},
   "source": [
    "And they're combined! But, as you may have noticed, the data from `devilAppearence` isn't clean! My challenge to you is to use what you now know and modify the cell above to clean `devilAppearence` before binding it! When build this tutorial, I referenced:\n",
    "\n",
    "- The [Tidytext documentation](https://www.rdocumentation.org/packages/tidytext/versions/0.2.6)\n",
    "- The [Tidyverse documentation](https://www.tidyverse.org/packages/)\n",
    "- [This article](https://sebastiansauer.github.io/dplyr_filter/) with more examples of how to use `filter()`\n",
    "\n",
    "If you want to download your data at anytime during this process, you can run:"
   ]
  },
  {
   "cell_type": "code",
   "execution_count": 1,
   "metadata": {},
   "outputs": [
    {
     "ename": "ERROR",
     "evalue": "Error in write_csv(folkNotes_gt, \"folkNotes_gt.csv\"): could not find function \"write_csv\"\n",
     "output_type": "error",
     "traceback": [
      "Error in write_csv(folkNotes_gt, \"folkNotes_gt.csv\"): could not find function \"write_csv\"\nTraceback:\n"
     ]
    }
   ],
   "source": [
    "# library(readr)\n",
    "\n",
    "# downloading the frame of words that occur more than 50 times in folk_notes\n",
    "# this will save in the directory that this notebook is saved in!\n",
    "write_csv(folkNotes_gt, \"folkNotes_gt.csv\")"
   ]
  },
  {
   "cell_type": "markdown",
   "metadata": {},
   "source": [
    "**\"What do I do if I get stuck?\"**\n",
    "\n",
    "If none of those references help, I get it! Programming can be confusing-- and so can googling about it. If you want to search for a solution to an issue you're running into, try following this format:\n",
    "\n",
    "`R [package you're using] [issue/error message you're getting]`\n",
    "\n",
    "You of course can also ask your peers for help in the course Discord-- teamwork makes the dream work! Good luck!\n"
   ]
  }
 ],
 "metadata": {
  "kernelspec": {
   "display_name": "R",
   "language": "R",
   "name": "ir"
  },
  "language_info": {
   "codemirror_mode": "r",
   "file_extension": ".r",
   "mimetype": "text/x-r-source",
   "name": "R",
   "pygments_lexer": "r",
   "version": "4.0.2"
  }
 },
 "nbformat": 4,
 "nbformat_minor": 4
}
